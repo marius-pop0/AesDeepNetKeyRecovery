{
 "cells": [
  {
   "cell_type": "code",
   "execution_count": 1,
   "metadata": {},
   "outputs": [
    {
     "name": "stderr",
     "output_type": "stream",
     "text": [
      "Using TensorFlow backend.\n"
     ]
    }
   ],
   "source": [
    "import numpy as np\n",
    "import pandas as pd\n",
    "import matplotlib.pyplot as plt\n",
    "\n",
    "from keras import backend as K\n",
    "from keras.models import Model\n",
    "from keras.optimizers import SGD, RMSprop\n",
    "from keras.layers import Flatten, Dense, Input, Conv1D, MaxPooling1D, AveragePooling1D\n",
    "from keras.utils import to_categorical\n",
    "from keras.callbacks import Callback, ModelCheckpoint\n",
    "from IDNNs.idnns.information.information_process import get_information\n",
    "from IDNNs.idnns.plots.plot_figures import plot_all_epochs, extract_array, load_figures\n",
    "from joblib import dump, load"
   ]
  },
  {
   "cell_type": "code",
   "execution_count": 2,
   "metadata": {},
   "outputs": [],
   "source": [
    "\n",
    "AES_Sbox = np.array(\n",
    "    [0x63, 0x7C, 0x77, 0x7B, 0xF2, 0x6B, 0x6F, 0xC5, 0x30, 0x01, 0x67, 0x2B, 0xFE, 0xD7, 0xAB, 0x76, 0xCA, 0x82, 0xC9,\n",
    "     0x7D, 0xFA, 0x59, 0x47, 0xF0, 0xAD, 0xD4, 0xA2, 0xAF, 0x9C, 0xA4, 0x72, 0xC0, 0xB7, 0xFD, 0x93, 0x26, 0x36, 0x3F,\n",
    "     0xF7, 0xCC, 0x34, 0xA5, 0xE5, 0xF1, 0x71, 0xD8, 0x31, 0x15, 0x04, 0xC7, 0x23, 0xC3, 0x18, 0x96, 0x05, 0x9A, 0x07,\n",
    "     0x12, 0x80, 0xE2, 0xEB, 0x27, 0xB2, 0x75, 0x09, 0x83, 0x2C, 0x1A, 0x1B, 0x6E, 0x5A, 0xA0, 0x52, 0x3B, 0xD6, 0xB3,\n",
    "     0x29, 0xE3, 0x2F, 0x84, 0x53, 0xD1, 0x00, 0xED, 0x20, 0xFC, 0xB1, 0x5B, 0x6A, 0xCB, 0xBE, 0x39, 0x4A, 0x4C, 0x58,\n",
    "     0xCF, 0xD0, 0xEF, 0xAA, 0xFB, 0x43, 0x4D, 0x33, 0x85, 0x45, 0xF9, 0x02, 0x7F, 0x50, 0x3C, 0x9F, 0xA8, 0x51, 0xA3,\n",
    "     0x40, 0x8F, 0x92, 0x9D, 0x38, 0xF5, 0xBC, 0xB6, 0xDA, 0x21, 0x10, 0xFF, 0xF3, 0xD2, 0xCD, 0x0C, 0x13, 0xEC, 0x5F,\n",
    "     0x97, 0x44, 0x17, 0xC4, 0xA7, 0x7E, 0x3D, 0x64, 0x5D, 0x19, 0x73, 0x60, 0x81, 0x4F, 0xDC, 0x22, 0x2A, 0x90, 0x88,\n",
    "     0x46, 0xEE, 0xB8, 0x14, 0xDE, 0x5E, 0x0B, 0xDB, 0xE0, 0x32, 0x3A, 0x0A, 0x49, 0x06, 0x24, 0x5C, 0xC2, 0xD3, 0xAC,\n",
    "     0x62, 0x91, 0x95, 0xE4, 0x79, 0xE7, 0xC8, 0x37, 0x6D, 0x8D, 0xD5, 0x4E, 0xA9, 0x6C, 0x56, 0xF4, 0xEA, 0x65, 0x7A,\n",
    "     0xAE, 0x08, 0xBA, 0x78, 0x25, 0x2E, 0x1C, 0xA6, 0xB4, 0xC6, 0xE8, 0xDD, 0x74, 0x1F, 0x4B, 0xBD, 0x8B, 0x8A, 0x70,\n",
    "     0x3E, 0xB5, 0x66, 0x48, 0x03, 0xF6, 0x0E, 0x61, 0x35, 0x57, 0xB9, 0x86, 0xC1, 0x1D, 0x9E, 0xE1, 0xF8, 0x98, 0x11,\n",
    "     0x69, 0xD9, 0x8E, 0x94, 0x9B, 0x1E, 0x87, 0xE9, 0xCE, 0x55, 0x28, 0xDF, 0x8C, 0xA1, 0x89, 0x0D, 0xBF, 0xE6, 0x42,\n",
    "     0x68, 0x41, 0x99, 0x2D, 0x0F, 0xB0, 0x54, 0xBB, 0x16])\n",
    "AES_inv_Sbox = np.array(\n",
    "    [0x52, 0x09, 0x6A, 0xD5, 0x30, 0x36, 0xA5, 0x38, 0xBF, 0x40, 0xA3, 0x9E, 0x81, 0xF3, 0xD7, 0xFB, 0x7C, 0xE3, 0x39,\n",
    "     0x82, 0x9B, 0x2F, 0xFF, 0x87, 0x34, 0x8E, 0x43, 0x44, 0xC4, 0xDE, 0xE9, 0xCB, 0x54, 0x7B, 0x94, 0x32, 0xA6, 0xC2,\n",
    "     0x23, 0x3D, 0xEE, 0x4C, 0x95, 0x0B, 0x42, 0xFA, 0xC3, 0x4E, 0x08, 0x2E, 0xA1, 0x66, 0x28, 0xD9, 0x24, 0xB2, 0x76,\n",
    "     0x5B, 0xA2, 0x49, 0x6D, 0x8B, 0xD1, 0x25, 0x72, 0xF8, 0xF6, 0x64, 0x86, 0x68, 0x98, 0x16, 0xD4, 0xA4, 0x5C, 0xCC,\n",
    "     0x5D, 0x65, 0xB6, 0x92, 0x6C, 0x70, 0x48, 0x50, 0xFD, 0xED, 0xB9, 0xDA, 0x5E, 0x15, 0x46, 0x57, 0xA7, 0x8D, 0x9D,\n",
    "     0x84, 0x90, 0xD8, 0xAB, 0x00, 0x8C, 0xBC, 0xD3, 0x0A, 0xF7, 0xE4, 0x58, 0x05, 0xB8, 0xB3, 0x45, 0x06, 0xD0, 0x2C,\n",
    "     0x1E, 0x8F, 0xCA, 0x3F, 0x0F, 0x02, 0xC1, 0xAF, 0xBD, 0x03, 0x01, 0x13, 0x8A, 0x6B, 0x3A, 0x91, 0x11, 0x41, 0x4F,\n",
    "     0x67, 0xDC, 0xEA, 0x97, 0xF2, 0xCF, 0xCE, 0xF0, 0xB4, 0xE6, 0x73, 0x96, 0xAC, 0x74, 0x22, 0xE7, 0xAD, 0x35, 0x85,\n",
    "     0xE2, 0xF9, 0x37, 0xE8, 0x1C, 0x75, 0xDF, 0x6E, 0x47, 0xF1, 0x1A, 0x71, 0x1D, 0x29, 0xC5, 0x89, 0x6F, 0xB7, 0x62,\n",
    "     0x0E, 0xAA, 0x18, 0xBE, 0x1B, 0xFC, 0x56, 0x3E, 0x4B, 0xC6, 0xD2, 0x79, 0x20, 0x9A, 0xDB, 0xC0, 0xFE, 0x78, 0xCD,\n",
    "     0x5A, 0xF4, 0x1F, 0xDD, 0xA8, 0x33, 0x88, 0x07, 0xC7, 0x31, 0xB1, 0x12, 0x10, 0x59, 0x27, 0x80, 0xEC, 0x5F, 0x60,\n",
    "     0x51, 0x7F, 0xA9, 0x19, 0xB5, 0x4A, 0x0D, 0x2D, 0xE5, 0x7A, 0x9F, 0x93, 0xC9, 0x9C, 0xEF, 0xA0, 0xE0, 0x3B, 0x4D,\n",
    "     0xAE, 0x2A, 0xF5, 0xB0, 0xC8, 0xEB, 0xBB, 0x3C, 0x83, 0x53, 0x99, 0x61, 0x17, 0x2B, 0x04, 0x7E, 0xBA, 0x77, 0xD6,\n",
    "     0x26, 0xE1, 0x69, 0x14, 0x63, 0x55, 0x21, 0x0C, 0x7D])\n",
    "\n",
    "hw = np.array([bin(x).count(\"1\") for x in range(256)])\n"
   ]
  },
  {
   "cell_type": "code",
   "execution_count": 3,
   "metadata": {},
   "outputs": [],
   "source": [
    "def load_traces(database_file, start_at=1, number_samples=0):\n",
    "    # Power Consumption Start_at -> Start_at + Number_Samples\n",
    "    traces = np.loadtxt(database_file, delimiter=',', dtype=np.float64, skiprows=1,\n",
    "                        usecols=range(start_at, start_at + number_samples))\n",
    "    # Plaintext Start_at - 1\n",
    "    inputoutput = np.loadtxt(database_file, delimiter=',', dtype=np.str, skiprows=1,\n",
    "                             usecols=start_at - 1)\n",
    "    # Chiphertext Start_at + Number_Samples\n",
    "    # Key Start_at + Number_Samples + 1\n",
    "    key = np.loadtxt(database_file, delimiter=',', dtype=np.str, skiprows=1,\n",
    "                             usecols=start_at + number_samples + 1)\n",
    "    # print(\"traces shape: {}\\ninputoutput shape: {}\\n\".format(traces.shape, inputoutput.shape))\n",
    "    return traces, inputoutput, key\n",
    "\n",
    "\n",
    "def shorten_traces(dataset, start_at=0, number_samples=0):\n",
    "    if len(dataset) == 3:\n",
    "        traces, inputoutput, key = dataset\n",
    "    elif len(dataset) == 4:\n",
    "        traces, inputoutput, key, labels = dataset\n",
    "        labels_selected = labels[start_at:start_at + number_samples]\n",
    "        \n",
    "    traces_selected = traces[start_at:start_at + number_samples]\n",
    "    inputoutput_selected = inputoutput[start_at:start_at + number_samples]\n",
    "    key_selected = key[start_at:start_at + number_samples]\n",
    "    \n",
    "    if len(dataset) == 3:\n",
    "        return traces_selected, inputoutput_selected, key_selected\n",
    "    elif len(dataset) == 4:\n",
    "        return traces_selected, inputoutput_selected, key_selected, labels_selected\n",
    "\n",
    "\n",
    "def statcorrect_traces(dataset):\n",
    "    if len(dataset) == 3:\n",
    "        traces, inputoutput, key = dataset\n",
    "    elif len(dataset) == 4:\n",
    "        traces, inputoutput, key, labels = dataset\n",
    "\n",
    "    # traces_statcorrect = (traces - np.mean(traces, axis=1).reshape(-1,1))/np.std(traces, axis=1).reshape(-1,1)\n",
    "    traces_statcorrect = (traces - np.mean(traces, axis=0).reshape(1, -1)) / np.std(traces, axis=0).reshape(1, -1)\n",
    "\n",
    "    if len(dataset) == 3:\n",
    "        return traces_statcorrect, inputoutput, key\n",
    "    elif len(dataset) == 4:\n",
    "        return traces_statcorrect, inputoutput, key, labels\n",
    "\n",
    "def create_labels_sboxinputkey(dataset, database_file, col):\n",
    "    if len(dataset) == 3:\n",
    "        traces, inputoutput, key = dataset\n",
    "    else:\n",
    "        traces, inputoutput, key, _ = dataset\n",
    "\n",
    "    labels = np.loadtxt(database_file, delimiter=',', dtype=np.int, skiprows=1,\n",
    "                     usecols=col)\n",
    "\n",
    "    return traces, inputoutput, key, labels\n"
   ]
  },
  {
   "cell_type": "code",
   "execution_count": 5,
   "metadata": {},
   "outputs": [],
   "source": [
    "# 1 Conv 1 Dense Layers with Gradient Descent Optimizer\n",
    "def create_model(classes=9, number_samples=200):\n",
    "    input_shape = (number_samples, 1)\n",
    "    trace_input = Input(shape=input_shape)\n",
    "    x = Conv1D(filters=64, kernel_size=10, strides=10, activation='relu', padding='valid', name='block1_conv1')(\n",
    "        trace_input)\n",
    "    # x = Conv1D(filters=32, kernel_size=3, strides=3, activation='relu', padding='valid', name='block1_conv2')(x)\n",
    "    x = MaxPooling1D(pool_size=2, strides=2, padding='valid', name='block1_pool')(x)\n",
    "    x = Flatten(name='flatten')(x)\n",
    "    x = Dense(200, activation='tanh', name='fc1')(x)\n",
    "    x = Dense(128, activation='tanh', name='fc2')(x)\n",
    "    x = Dense(128, activation='tanh', name='fc3')(x)\n",
    "    x = Dense(64, activation='tanh', name='fc4')(x)\n",
    "    x = Dense(64, activation='tanh', name='fc5')(x)\n",
    "    x = Dense(classes, activation='softmax', name='predictions')(x)\n",
    "\n",
    "    model = Model(trace_input, x, name='cnn')\n",
    "    optimizer = SGD(lr=0.001, decay=0, momentum=0.9, nesterov=True)\n",
    "    model.compile(loss='categorical_crossentropy', optimizer=optimizer, metrics=['accuracy'])\n",
    "    return model\n",
    "\n",
    "# 6 Dense Layers with RMSprop optimizer MLP\n",
    "def create_model_mlp(classes=9, number_samples=200):\n",
    "    input_shape = (number_samples, 1)\n",
    "    trace_input = Input(shape=input_shape)\n",
    "    x = Flatten(name='flatten')(trace_input)\n",
    "    x = Dense(200, activation='relu', name='fc1')(x)\n",
    "    x = Dense(200, activation='relu', name='fc2')(x)\n",
    "    # x = Dense(200, activation='relu', name='fc3')(x)\n",
    "    x = Dense(128, activation='relu', name='fc4')(x)\n",
    "    x = Dense(128, activation='relu', name='fc5')(x)\n",
    "    # x = Dense(128, activation='relu', name='fc6')(x)\n",
    "    x = Dense(classes, activation='softmax', name='predictions')(x)\n",
    "    model = Model(trace_input, x, name='mlp_RMSprop')\n",
    "    optimizer = RMSprop(lr=0.0001, decay=0)\n",
    "    model.compile(loss='categorical_crossentropy', optimizer=optimizer, metrics=['accuracy'])\n",
    "    return model\n",
    "\n",
    "# 1 Conv 2 Dense Layers with RMSprop optimizer CNN\n",
    "def create_model3(classes=9, number_samples=200):\n",
    "    input_shape = (number_samples, 1)\n",
    "    trace_input = Input(shape=input_shape)\n",
    "    x = Conv1D(filters=64, kernel_size=10, strides=10, activation='relu', padding='same', name='block1_conv1')(\n",
    "        trace_input)\n",
    "    x = AveragePooling1D(pool_size=2, strides=2, padding='same', name='block1_pool')(x)\n",
    "    x = Flatten(name='flatten')(x)\n",
    "    x = Dense(4096, activation='tanh', name='fc1')(x)\n",
    "    x = Dense(4096, activation='tanh', name='fc2')(x)\n",
    "    x = Dense(classes, activation='softmax', name='predictions')(x)\n",
    "    model = Model(trace_input, x, name='cnn_RMSprop')\n",
    "    optimizer = RMSprop(lr=0.00001, decay=0)\n",
    "    model.compile(loss='categorical_crossentropy', optimizer=optimizer, metrics=['accuracy'])\n",
    "    return model\n",
    "\n"
   ]
  },
  {
   "cell_type": "code",
   "execution_count": 6,
   "metadata": {},
   "outputs": [],
   "source": [
    "def key_rank(model, inout_test, traces_test, kByte, trueKey):\n",
    "    p = model.predict(traces_test)\n",
    "    rank = np.zeros(inout_test.shape[0])\n",
    "    prob_vector = np.zeros(256)\n",
    "\n",
    "    for i, v in enumerate(inout_test):\n",
    "        for kh in range(0, 256):\n",
    "            hemw = hw[AES_Sbox[bytes.fromhex(v)[kByte] ^ kh]]\n",
    "            prob_vector[kh] += p[i][hemw]\n",
    "        df = pd.DataFrame({'prob': prob_vector})\n",
    "        df = df.sort_values(['prob'],ascending=False)\n",
    "        df = df.reset_index()\n",
    "        df.rename(columns={'index': 'keyH'},inplace=True)\n",
    "        rank[i] = df[df.keyH == int(trueKey, 16)].index.tolist()[0]\n",
    "    return rank\n",
    "\n",
    "\n",
    "def _evaluate(model: Model, nodes_to_evaluate, x, y=None):\n",
    "    symb_inputs = (model._feed_inputs + model._feed_targets + model._feed_sample_weights)\n",
    "    f = K.function(symb_inputs, nodes_to_evaluate)\n",
    "    x_, y_, sample_weight_ = model._standardize_user_data(x, y)\n",
    "    return f(x_ + y_ + sample_weight_)\n",
    "\n",
    "\n",
    "def get_activations(model, x, layer_name=None):\n",
    "    nodes = [layer.output for layer in model.layers if layer.name == layer_name or layer_name is None]\n",
    "    # we process the placeholders later (Inputs node in Keras). Because there's a bug in Tensorflow.\n",
    "    input_layer_outputs, layer_outputs = [], []\n",
    "    [input_layer_outputs.append(node) if 'input_' in node.name else layer_outputs.append(node) for node in nodes]\n",
    "    activations = _evaluate(model, layer_outputs, x, y=None)\n",
    "    activations_dict = dict(zip([output.name for output in layer_outputs], activations))\n",
    "    activations_inputs_dict = dict(zip([output.name for output in input_layer_outputs], x))\n",
    "    result = activations_inputs_dict.copy()\n",
    "    result.update(activations_dict)\n",
    "    completeActivations = []\n",
    "    for i in range(len(result)):\n",
    "        completeActivations.append(list(result.items())[i][1])\n",
    "    return completeActivations\n",
    "\n"
   ]
  },
  {
   "cell_type": "code",
   "execution_count": 7,
   "metadata": {
    "collapsed": true
   },
   "outputs": [],
   "source": [
    "trainset = 'datasets/SmartCardAES/AES_trainset.csv'\n",
    "testset = 'datasets/SmartCardAES/AES_testset.csv'\n",
    "\n",
    "dataset = load_traces(trainset, 1, 1654)\n",
    "dataset = statcorrect_traces(dataset)\n",
    "dataset_test = load_traces(testset, 1, 1654)\n",
    "dataset_test = statcorrect_traces(dataset_test)\n"
   ]
  },
  {
   "cell_type": "code",
   "execution_count": 27,
   "metadata": {
    "collapsed": true
   },
   "outputs": [
    {
     "name": "stdout",
     "output_type": "stream",
     "text": [
      "<------------------Attacking Byte: 1------------------>\n"
     ]
    }
   ],
   "source": [
    "\n",
    "# range 16\n",
    "for i in range(1,2):\n",
    "    dataset_keyh = create_labels_sboxinputkey(dataset, trainset, 1656 + i)  # Template - Use known SubKey byte\n",
    "    # dataset_keyh = shorten_traces(dataset_keyh,0,20000)\n",
    "    dataset_test_core = create_labels_sboxinputkey(dataset_test, testset, 1656 + i)\n",
    "    #dataset_test_core = shorten_traces(dataset_test_core, 0, 20000)\n",
    "    \n",
    "    # dataset_keyhype = split_data_percentage(dataset_keyhype, training_fraction=0.85)\n",
    "    traces_train, inputoutput_train, _, labels_train = dataset_keyh\n",
    "    traces_test, inputoutput_test, key, labels_test = dataset_test_core\n",
    "    print(\"<------------------Attacking Byte: {}------------------>\".format(i))\n",
    "    # print(traces_train.shape, traces_train.dtype)\n",
    "    # print(traces_test.shape, traces_test.dtype)\n",
    "    # print(inputoutput_train.shape, inputoutput_train.dtype)\n",
    "    # print(inputoutput_test.shape, inputoutput_test.dtype)\n",
    "    # print(labels_train.shape, labels_train.dtype)\n",
    "    # print(labels_test.shape, labels_test.dtype)\n",
    "    # print(labels_train[0])\n",
    "    # min_class_tr = int(np.min(labels_train))\n",
    "    # min_class_ts = int(np.min(labels_test))\n",
    "    # classes = max(len(np.unique(labels_train)) + min_class_tr, len(np.unique(labels_test)) + min_class_ts)\n",
    "    classes = 9\n",
    "    traces_train_reshaped = traces_train.reshape((traces_train.shape[0], traces_train.shape[1], 1))\n",
    "    labels_train_categorical = to_categorical(labels_train, num_classes=classes)\n",
    "    traces_test_reshaped = traces_test.reshape((traces_test.shape[0], traces_test.shape[1], 1))\n",
    "    labels_test_categorical = to_categorical(labels_test, num_classes=classes)\n",
    "    save_model = ModelCheckpoint('model_epoch{epoch}.h5', period=100)\n",
    "    \n",
    "    class CalculateRecall(Callback):\n",
    "        def __init__(self, data, labels, message_prefix=None):\n",
    "            self.data = data\n",
    "            self.labels = labels\n",
    "            self.message_prefix = message_prefix + ' ' or ''\n",
    "\n",
    "        def on_epoch_end(self, epoch, logs=None):\n",
    "            logs = logs or {}\n",
    "            predictions = self.model.predict(self.data)\n",
    "            correctly_classified = (np.argmax(predictions, axis=1) == self.labels)\n",
    "            _sum = 0.\n",
    "            for i in np.unique(self.labels):\n",
    "                n_correct = len(np.nonzero(correctly_classified[np.where(self.labels == i)[0]])[0])\n",
    "                n_total = len(np.where(self.labels == i)[0])\n",
    "                _sum += n_correct / n_total\n",
    "            recall = _sum / len(np.unique(self.labels))\n",
    "            print(self.message_prefix + 'recall:', recall)\n",
    "\n",
    "\n",
    "    class CalculateActivations(Callback):\n",
    "        def __init__(self, calcEpoch):\n",
    "            self.calcEpoch = calcEpoch\n",
    "            self.idx = 0\n",
    "            self.ws = []\n",
    "            \n",
    "        def on_epoch_end(self, epoch, logs=None):\n",
    "            if epoch == self.calcEpoch[self.idx]:\n",
    "                print(\"Getting Activations...\")\n",
    "                self.ws.append(get_activations(self.model, self.validation_data[0])[1:])\n",
    "                if self.idx < len(self.calcEpoch)-1:\n",
    "                    self.idx += 1\n",
    "\n",
    "    \n",
    "    epoch_max = 200\n",
    "    num_of_samples = 30\n",
    "    important_epoch = np.unique(np.logspace(np.log2(1), np.log2(epoch_max), num_of_samples, dtype=int, base=2)) - 1\n",
    "    calculate_recall_train = CalculateRecall(traces_train_reshaped, labels_train, 'train')\n",
    "    calculate_recall_test = CalculateRecall(traces_test_reshaped, labels_test, 'test')\n",
    "    calculate_act_test = CalculateActivations(important_epoch)\n",
    "\n",
    "    callbacks = [calculate_recall_train, calculate_recall_test, save_model, calculate_act_test]\n",
    "\n",
    "    model = create_model_mlp(classes=classes, number_samples=traces_train.shape[1])\n"
   ]
  },
  {
   "cell_type": "code",
   "execution_count": 9,
   "metadata": {
    "collapsed": true
   },
   "outputs": [
    {
     "name": "stdout",
     "output_type": "stream",
     "text": [
      "WARNING:tensorflow:From /usr/lib/python3.7/site-packages/tensorflow/python/ops/math_ops.py:3066: to_int32 (from tensorflow.python.ops.math_ops) is deprecated and will be removed in a future version.\nInstructions for updating:\nUse tf.cast instead.\n"
     ]
    },
    {
     "name": "stdout",
     "output_type": "stream",
     "text": [
      "train recall: 0.12084552115547502\n"
     ]
    },
    {
     "name": "stdout",
     "output_type": "stream",
     "text": [
      "test recall: 0.11939223507118582\nGetting Activations...\n"
     ]
    },
    {
     "name": "stdout",
     "output_type": "stream",
     "text": [
      "train recall: 0.178654587747277\n"
     ]
    },
    {
     "name": "stdout",
     "output_type": "stream",
     "text": [
      "test recall: 0.17734642503891845\nGetting Activations...\n"
     ]
    },
    {
     "name": "stdout",
     "output_type": "stream",
     "text": [
      "train recall: 0.25806367591745505\n"
     ]
    },
    {
     "name": "stdout",
     "output_type": "stream",
     "text": [
      "test recall: 0.26016245569795177\nGetting Activations...\n"
     ]
    },
    {
     "name": "stdout",
     "output_type": "stream",
     "text": [
      "train recall: 0.3246458524597766\n"
     ]
    },
    {
     "name": "stdout",
     "output_type": "stream",
     "text": [
      "test recall: 0.32725922207283553\nGetting Activations...\n"
     ]
    },
    {
     "name": "stdout",
     "output_type": "stream",
     "text": [
      "train recall: 0.40324702743135654\n"
     ]
    },
    {
     "name": "stdout",
     "output_type": "stream",
     "text": [
      "test recall: 0.4023436412854711\nGetting Activations...\n"
     ]
    },
    {
     "name": "stdout",
     "output_type": "stream",
     "text": [
      "train recall: 0.44385513133714294\n"
     ]
    },
    {
     "name": "stdout",
     "output_type": "stream",
     "text": [
      "test recall: 0.4439541383576574\nGetting Activations...\n"
     ]
    },
    {
     "name": "stdout",
     "output_type": "stream",
     "text": [
      "train recall: 0.4685326768509834\n"
     ]
    },
    {
     "name": "stdout",
     "output_type": "stream",
     "text": [
      "test recall: 0.46489799239416363\nGetting Activations...\n"
     ]
    },
    {
     "name": "stdout",
     "output_type": "stream",
     "text": [
      "train recall: 0.4940592777270509\n"
     ]
    },
    {
     "name": "stdout",
     "output_type": "stream",
     "text": [
      "test recall: 0.4892680796105122\nGetting Activations...\n"
     ]
    },
    {
     "name": "stdout",
     "output_type": "stream",
     "text": [
      "train recall: 0.5003445302543301\n"
     ]
    },
    {
     "name": "stdout",
     "output_type": "stream",
     "text": [
      "test recall: 0.49690411643504107\nGetting Activations...\n"
     ]
    },
    {
     "name": "stdout",
     "output_type": "stream",
     "text": [
      "train recall: 0.5137808685412011\n"
     ]
    },
    {
     "name": "stdout",
     "output_type": "stream",
     "text": [
      "test recall: 0.508134105057447\nGetting Activations...\n"
     ]
    },
    {
     "name": "stdout",
     "output_type": "stream",
     "text": [
      "train recall: 0.5297005753274496\n"
     ]
    },
    {
     "name": "stdout",
     "output_type": "stream",
     "text": [
      "test recall: 0.5275466060853736\nGetting Activations...\n"
     ]
    },
    {
     "name": "stdout",
     "output_type": "stream",
     "text": [
      "train recall: 0.5633314814279211\n"
     ]
    },
    {
     "name": "stdout",
     "output_type": "stream",
     "text": [
      "test recall: 0.5585888866295033\n"
     ]
    },
    {
     "name": "stdout",
     "output_type": "stream",
     "text": [
      "train recall: 0.5984241183951444\n"
     ]
    },
    {
     "name": "stdout",
     "output_type": "stream",
     "text": [
      "test recall: 0.5926121339613899\nGetting Activations...\n"
     ]
    },
    {
     "name": "stdout",
     "output_type": "stream",
     "text": [
      "train recall: 0.6044098222024713\n"
     ]
    },
    {
     "name": "stdout",
     "output_type": "stream",
     "text": [
      "test recall: 0.5978311918063758\n"
     ]
    },
    {
     "name": "stdout",
     "output_type": "stream",
     "text": [
      "train recall: 0.6229877435088632\n"
     ]
    },
    {
     "name": "stdout",
     "output_type": "stream",
     "text": [
      "test recall: 0.6151286777920383\nGetting Activations...\n"
     ]
    },
    {
     "name": "stdout",
     "output_type": "stream",
     "text": [
      "train recall: 0.6435162594824285\n"
     ]
    },
    {
     "name": "stdout",
     "output_type": "stream",
     "text": [
      "test recall: 0.6407677825020216\n"
     ]
    },
    {
     "name": "stdout",
     "output_type": "stream",
     "text": [
      "train recall: 0.6572277343274593\n"
     ]
    },
    {
     "name": "stdout",
     "output_type": "stream",
     "text": [
      "test recall: 0.6537370969384394\nGetting Activations...\n"
     ]
    },
    {
     "name": "stdout",
     "output_type": "stream",
     "text": [
      "train recall: 0.6749117693565548\n"
     ]
    },
    {
     "name": "stdout",
     "output_type": "stream",
     "text": [
      "test recall: 0.6691914053753358\n"
     ]
    },
    {
     "name": "stdout",
     "output_type": "stream",
     "text": [
      "train recall: 0.7002420282001167\n"
     ]
    },
    {
     "name": "stdout",
     "output_type": "stream",
     "text": [
      "test recall: 0.6988928141682148\nGetting Activations...\n"
     ]
    },
    {
     "name": "stdout",
     "output_type": "stream",
     "text": [
      "train recall: 0.7023434476135695\n"
     ]
    },
    {
     "name": "stdout",
     "output_type": "stream",
     "text": [
      "test recall: 0.6969218868869896\n"
     ]
    },
    {
     "name": "stdout",
     "output_type": "stream",
     "text": [
      "train recall: 0.7239489352686749\n"
     ]
    },
    {
     "name": "stdout",
     "output_type": "stream",
     "text": [
      "test recall: 0.7215768436057608\nGetting Activations...\n"
     ]
    },
    {
     "ename": "InternalError",
     "evalue": "Could not allocate ndarray",
     "traceback": [
      "\u001b[0;31m---------------------------------------------------------------------------\u001b[0m",
      "\u001b[0;31mMemoryError\u001b[0m                               Traceback (most recent call last)",
      "\u001b[0;31mMemoryError\u001b[0m: ",
      "\nThe above exception was the direct cause of the following exception:\n",
      "\u001b[0;31mSystemError\u001b[0m                               Traceback (most recent call last)",
      "\u001b[0;32m/usr/lib/python3.7/site-packages/tensorflow/python/client/session.py\u001b[0m in \u001b[0;36m__call__\u001b[0;34m(self, *args, **kwargs)\u001b[0m\n\u001b[1;32m   1438\u001b[0m               \u001b[0mself\u001b[0m\u001b[0;34m.\u001b[0m\u001b[0m_session\u001b[0m\u001b[0;34m.\u001b[0m\u001b[0m_session\u001b[0m\u001b[0;34m,\u001b[0m \u001b[0mself\u001b[0m\u001b[0;34m.\u001b[0m\u001b[0m_handle\u001b[0m\u001b[0;34m,\u001b[0m \u001b[0margs\u001b[0m\u001b[0;34m,\u001b[0m \u001b[0mstatus\u001b[0m\u001b[0;34m,\u001b[0m\u001b[0;34m\u001b[0m\u001b[0;34m\u001b[0m\u001b[0m\n\u001b[0;32m-> 1439\u001b[0;31m               run_metadata_ptr)\n\u001b[0m\u001b[1;32m   1440\u001b[0m         \u001b[0;32mif\u001b[0m \u001b[0mrun_metadata\u001b[0m\u001b[0;34m:\u001b[0m\u001b[0;34m\u001b[0m\u001b[0;34m\u001b[0m\u001b[0m\n",
      "\u001b[0;31mSystemError\u001b[0m: <built-in function TF_SessionRunCallable> returned a result with an error set",
      "\nDuring handling of the above exception, another exception occurred:\n",
      "\u001b[0;31mInternalError\u001b[0m                             Traceback (most recent call last)",
      "\u001b[0;32m<ipython-input-9-b56824e48e89>\u001b[0m in \u001b[0;36m<module>\u001b[0;34m\u001b[0m\n\u001b[1;32m      8\u001b[0m                     \u001b[0;31m#                                              labels_train),\u001b[0m\u001b[0;34m\u001b[0m\u001b[0;34m\u001b[0m\u001b[0;34m\u001b[0m\u001b[0m\n\u001b[1;32m      9\u001b[0m                     \u001b[0mvalidation_data\u001b[0m\u001b[0;34m=\u001b[0m\u001b[0;34m(\u001b[0m\u001b[0mtraces_test_reshaped\u001b[0m\u001b[0;34m,\u001b[0m \u001b[0mlabels_test_categorical\u001b[0m\u001b[0;34m)\u001b[0m\u001b[0;34m,\u001b[0m\u001b[0;34m\u001b[0m\u001b[0;34m\u001b[0m\u001b[0m\n\u001b[0;32m---> 10\u001b[0;31m                     callbacks=callbacks)\n\u001b[0m\u001b[1;32m     11\u001b[0m \u001b[0mmodel\u001b[0m\u001b[0;34m.\u001b[0m\u001b[0msave\u001b[0m\u001b[0;34m(\u001b[0m\u001b[0;34m\"AES_trained_model{}.h5\"\u001b[0m\u001b[0;34m.\u001b[0m\u001b[0mformat\u001b[0m\u001b[0;34m(\u001b[0m\u001b[0mi\u001b[0m\u001b[0;34m)\u001b[0m\u001b[0;34m)\u001b[0m\u001b[0;34m\u001b[0m\u001b[0;34m\u001b[0m\u001b[0m\n\u001b[1;32m     12\u001b[0m \u001b[0;34m\u001b[0m\u001b[0m\n",
      "\u001b[0;32m/usr/lib/python3.7/site-packages/keras/engine/training.py\u001b[0m in \u001b[0;36mfit\u001b[0;34m(self, x, y, batch_size, epochs, verbose, callbacks, validation_split, validation_data, shuffle, class_weight, sample_weight, initial_epoch, steps_per_epoch, validation_steps, **kwargs)\u001b[0m\n\u001b[1;32m   1037\u001b[0m                                         \u001b[0minitial_epoch\u001b[0m\u001b[0;34m=\u001b[0m\u001b[0minitial_epoch\u001b[0m\u001b[0;34m,\u001b[0m\u001b[0;34m\u001b[0m\u001b[0;34m\u001b[0m\u001b[0m\n\u001b[1;32m   1038\u001b[0m                                         \u001b[0msteps_per_epoch\u001b[0m\u001b[0;34m=\u001b[0m\u001b[0msteps_per_epoch\u001b[0m\u001b[0;34m,\u001b[0m\u001b[0;34m\u001b[0m\u001b[0;34m\u001b[0m\u001b[0m\n\u001b[0;32m-> 1039\u001b[0;31m                                         validation_steps=validation_steps)\n\u001b[0m\u001b[1;32m   1040\u001b[0m \u001b[0;34m\u001b[0m\u001b[0m\n\u001b[1;32m   1041\u001b[0m     def evaluate(self, x=None, y=None,\n",
      "\u001b[0;32m/usr/lib/python3.7/site-packages/keras/engine/training_arrays.py\u001b[0m in \u001b[0;36mfit_loop\u001b[0;34m(model, f, ins, out_labels, batch_size, epochs, verbose, callbacks, val_f, val_ins, shuffle, callback_metrics, initial_epoch, steps_per_epoch, validation_steps)\u001b[0m\n\u001b[1;32m    215\u001b[0m                         \u001b[0;32mfor\u001b[0m \u001b[0ml\u001b[0m\u001b[0;34m,\u001b[0m \u001b[0mo\u001b[0m \u001b[0;32min\u001b[0m \u001b[0mzip\u001b[0m\u001b[0;34m(\u001b[0m\u001b[0mout_labels\u001b[0m\u001b[0;34m,\u001b[0m \u001b[0mval_outs\u001b[0m\u001b[0;34m)\u001b[0m\u001b[0;34m:\u001b[0m\u001b[0;34m\u001b[0m\u001b[0;34m\u001b[0m\u001b[0m\n\u001b[1;32m    216\u001b[0m                             \u001b[0mepoch_logs\u001b[0m\u001b[0;34m[\u001b[0m\u001b[0;34m'val_'\u001b[0m \u001b[0;34m+\u001b[0m \u001b[0ml\u001b[0m\u001b[0;34m]\u001b[0m \u001b[0;34m=\u001b[0m \u001b[0mo\u001b[0m\u001b[0;34m\u001b[0m\u001b[0;34m\u001b[0m\u001b[0m\n\u001b[0;32m--> 217\u001b[0;31m         \u001b[0mcallbacks\u001b[0m\u001b[0;34m.\u001b[0m\u001b[0mon_epoch_end\u001b[0m\u001b[0;34m(\u001b[0m\u001b[0mepoch\u001b[0m\u001b[0;34m,\u001b[0m \u001b[0mepoch_logs\u001b[0m\u001b[0;34m)\u001b[0m\u001b[0;34m\u001b[0m\u001b[0;34m\u001b[0m\u001b[0m\n\u001b[0m\u001b[1;32m    218\u001b[0m         \u001b[0;32mif\u001b[0m \u001b[0mcallback_model\u001b[0m\u001b[0;34m.\u001b[0m\u001b[0mstop_training\u001b[0m\u001b[0;34m:\u001b[0m\u001b[0;34m\u001b[0m\u001b[0;34m\u001b[0m\u001b[0m\n\u001b[1;32m    219\u001b[0m             \u001b[0;32mbreak\u001b[0m\u001b[0;34m\u001b[0m\u001b[0;34m\u001b[0m\u001b[0m\n",
      "\u001b[0;32m/usr/lib/python3.7/site-packages/keras/callbacks.py\u001b[0m in \u001b[0;36mon_epoch_end\u001b[0;34m(self, epoch, logs)\u001b[0m\n\u001b[1;32m     77\u001b[0m         \u001b[0mlogs\u001b[0m \u001b[0;34m=\u001b[0m \u001b[0mlogs\u001b[0m \u001b[0;32mor\u001b[0m \u001b[0;34m{\u001b[0m\u001b[0;34m}\u001b[0m\u001b[0;34m\u001b[0m\u001b[0;34m\u001b[0m\u001b[0m\n\u001b[1;32m     78\u001b[0m         \u001b[0;32mfor\u001b[0m \u001b[0mcallback\u001b[0m \u001b[0;32min\u001b[0m \u001b[0mself\u001b[0m\u001b[0;34m.\u001b[0m\u001b[0mcallbacks\u001b[0m\u001b[0;34m:\u001b[0m\u001b[0;34m\u001b[0m\u001b[0;34m\u001b[0m\u001b[0m\n\u001b[0;32m---> 79\u001b[0;31m             \u001b[0mcallback\u001b[0m\u001b[0;34m.\u001b[0m\u001b[0mon_epoch_end\u001b[0m\u001b[0;34m(\u001b[0m\u001b[0mepoch\u001b[0m\u001b[0;34m,\u001b[0m \u001b[0mlogs\u001b[0m\u001b[0;34m)\u001b[0m\u001b[0;34m\u001b[0m\u001b[0;34m\u001b[0m\u001b[0m\n\u001b[0m\u001b[1;32m     80\u001b[0m \u001b[0;34m\u001b[0m\u001b[0m\n\u001b[1;32m     81\u001b[0m     \u001b[0;32mdef\u001b[0m \u001b[0mon_batch_begin\u001b[0m\u001b[0;34m(\u001b[0m\u001b[0mself\u001b[0m\u001b[0;34m,\u001b[0m \u001b[0mbatch\u001b[0m\u001b[0;34m,\u001b[0m \u001b[0mlogs\u001b[0m\u001b[0;34m=\u001b[0m\u001b[0;32mNone\u001b[0m\u001b[0;34m)\u001b[0m\u001b[0;34m:\u001b[0m\u001b[0;34m\u001b[0m\u001b[0;34m\u001b[0m\u001b[0m\n",
      "\u001b[0;32m<ipython-input-8-dc78d4e0fae5>\u001b[0m in \u001b[0;36mon_epoch_end\u001b[0;34m(self, epoch, logs)\u001b[0m\n\u001b[1;32m     56\u001b[0m             \u001b[0;32mif\u001b[0m \u001b[0mepoch\u001b[0m \u001b[0;34m==\u001b[0m \u001b[0mself\u001b[0m\u001b[0;34m.\u001b[0m\u001b[0mcalcEpoch\u001b[0m\u001b[0;34m[\u001b[0m\u001b[0mself\u001b[0m\u001b[0;34m.\u001b[0m\u001b[0midx\u001b[0m\u001b[0;34m]\u001b[0m\u001b[0;34m:\u001b[0m\u001b[0;34m\u001b[0m\u001b[0;34m\u001b[0m\u001b[0m\n\u001b[1;32m     57\u001b[0m                 \u001b[0mprint\u001b[0m\u001b[0;34m(\u001b[0m\u001b[0;34m\"Getting Activations...\"\u001b[0m\u001b[0;34m)\u001b[0m\u001b[0;34m\u001b[0m\u001b[0;34m\u001b[0m\u001b[0m\n\u001b[0;32m---> 58\u001b[0;31m                 \u001b[0mself\u001b[0m\u001b[0;34m.\u001b[0m\u001b[0mws\u001b[0m\u001b[0;34m.\u001b[0m\u001b[0mappend\u001b[0m\u001b[0;34m(\u001b[0m\u001b[0mget_activations\u001b[0m\u001b[0;34m(\u001b[0m\u001b[0mself\u001b[0m\u001b[0;34m.\u001b[0m\u001b[0mmodel\u001b[0m\u001b[0;34m,\u001b[0m \u001b[0mself\u001b[0m\u001b[0;34m.\u001b[0m\u001b[0mvalidation_data\u001b[0m\u001b[0;34m[\u001b[0m\u001b[0;36m0\u001b[0m\u001b[0;34m]\u001b[0m\u001b[0;34m)\u001b[0m\u001b[0;34m[\u001b[0m\u001b[0;36m1\u001b[0m\u001b[0;34m:\u001b[0m\u001b[0;34m]\u001b[0m\u001b[0;34m)\u001b[0m\u001b[0;34m\u001b[0m\u001b[0;34m\u001b[0m\u001b[0m\n\u001b[0m\u001b[1;32m     59\u001b[0m                 \u001b[0;32mif\u001b[0m \u001b[0mself\u001b[0m\u001b[0;34m.\u001b[0m\u001b[0midx\u001b[0m \u001b[0;34m<\u001b[0m \u001b[0mlen\u001b[0m\u001b[0;34m(\u001b[0m\u001b[0mself\u001b[0m\u001b[0;34m.\u001b[0m\u001b[0mcalcEpoch\u001b[0m\u001b[0;34m)\u001b[0m\u001b[0;34m-\u001b[0m\u001b[0;36m1\u001b[0m\u001b[0;34m:\u001b[0m\u001b[0;34m\u001b[0m\u001b[0;34m\u001b[0m\u001b[0m\n\u001b[1;32m     60\u001b[0m                     \u001b[0mself\u001b[0m\u001b[0;34m.\u001b[0m\u001b[0midx\u001b[0m \u001b[0;34m+=\u001b[0m \u001b[0;36m1\u001b[0m\u001b[0;34m\u001b[0m\u001b[0;34m\u001b[0m\u001b[0m\n",
      "\u001b[0;32m<ipython-input-5-aa605bb7def3>\u001b[0m in \u001b[0;36mget_activations\u001b[0;34m(model, x, layer_name)\u001b[0m\n\u001b[1;32m     28\u001b[0m     \u001b[0minput_layer_outputs\u001b[0m\u001b[0;34m,\u001b[0m \u001b[0mlayer_outputs\u001b[0m \u001b[0;34m=\u001b[0m \u001b[0;34m[\u001b[0m\u001b[0;34m]\u001b[0m\u001b[0;34m,\u001b[0m \u001b[0;34m[\u001b[0m\u001b[0;34m]\u001b[0m\u001b[0;34m\u001b[0m\u001b[0;34m\u001b[0m\u001b[0m\n\u001b[1;32m     29\u001b[0m     \u001b[0;34m[\u001b[0m\u001b[0minput_layer_outputs\u001b[0m\u001b[0;34m.\u001b[0m\u001b[0mappend\u001b[0m\u001b[0;34m(\u001b[0m\u001b[0mnode\u001b[0m\u001b[0;34m)\u001b[0m \u001b[0;32mif\u001b[0m \u001b[0;34m'input_'\u001b[0m \u001b[0;32min\u001b[0m \u001b[0mnode\u001b[0m\u001b[0;34m.\u001b[0m\u001b[0mname\u001b[0m \u001b[0;32melse\u001b[0m \u001b[0mlayer_outputs\u001b[0m\u001b[0;34m.\u001b[0m\u001b[0mappend\u001b[0m\u001b[0;34m(\u001b[0m\u001b[0mnode\u001b[0m\u001b[0;34m)\u001b[0m \u001b[0;32mfor\u001b[0m \u001b[0mnode\u001b[0m \u001b[0;32min\u001b[0m \u001b[0mnodes\u001b[0m\u001b[0;34m]\u001b[0m\u001b[0;34m\u001b[0m\u001b[0;34m\u001b[0m\u001b[0m\n\u001b[0;32m---> 30\u001b[0;31m     \u001b[0mactivations\u001b[0m \u001b[0;34m=\u001b[0m \u001b[0m_evaluate\u001b[0m\u001b[0;34m(\u001b[0m\u001b[0mmodel\u001b[0m\u001b[0;34m,\u001b[0m \u001b[0mlayer_outputs\u001b[0m\u001b[0;34m,\u001b[0m \u001b[0mx\u001b[0m\u001b[0;34m,\u001b[0m \u001b[0my\u001b[0m\u001b[0;34m=\u001b[0m\u001b[0;32mNone\u001b[0m\u001b[0;34m)\u001b[0m\u001b[0;34m\u001b[0m\u001b[0;34m\u001b[0m\u001b[0m\n\u001b[0m\u001b[1;32m     31\u001b[0m     \u001b[0mactivations_dict\u001b[0m \u001b[0;34m=\u001b[0m \u001b[0mdict\u001b[0m\u001b[0;34m(\u001b[0m\u001b[0mzip\u001b[0m\u001b[0;34m(\u001b[0m\u001b[0;34m[\u001b[0m\u001b[0moutput\u001b[0m\u001b[0;34m.\u001b[0m\u001b[0mname\u001b[0m \u001b[0;32mfor\u001b[0m \u001b[0moutput\u001b[0m \u001b[0;32min\u001b[0m \u001b[0mlayer_outputs\u001b[0m\u001b[0;34m]\u001b[0m\u001b[0;34m,\u001b[0m \u001b[0mactivations\u001b[0m\u001b[0;34m)\u001b[0m\u001b[0;34m)\u001b[0m\u001b[0;34m\u001b[0m\u001b[0;34m\u001b[0m\u001b[0m\n\u001b[1;32m     32\u001b[0m     \u001b[0mactivations_inputs_dict\u001b[0m \u001b[0;34m=\u001b[0m \u001b[0mdict\u001b[0m\u001b[0;34m(\u001b[0m\u001b[0mzip\u001b[0m\u001b[0;34m(\u001b[0m\u001b[0;34m[\u001b[0m\u001b[0moutput\u001b[0m\u001b[0;34m.\u001b[0m\u001b[0mname\u001b[0m \u001b[0;32mfor\u001b[0m \u001b[0moutput\u001b[0m \u001b[0;32min\u001b[0m \u001b[0minput_layer_outputs\u001b[0m\u001b[0;34m]\u001b[0m\u001b[0;34m,\u001b[0m \u001b[0mx\u001b[0m\u001b[0;34m)\u001b[0m\u001b[0;34m)\u001b[0m\u001b[0;34m\u001b[0m\u001b[0;34m\u001b[0m\u001b[0m\n",
      "\u001b[0;32m<ipython-input-5-aa605bb7def3>\u001b[0m in \u001b[0;36m_evaluate\u001b[0;34m(model, nodes_to_evaluate, x, y)\u001b[0m\n\u001b[1;32m     20\u001b[0m     \u001b[0mf\u001b[0m \u001b[0;34m=\u001b[0m \u001b[0mK\u001b[0m\u001b[0;34m.\u001b[0m\u001b[0mfunction\u001b[0m\u001b[0;34m(\u001b[0m\u001b[0msymb_inputs\u001b[0m\u001b[0;34m,\u001b[0m \u001b[0mnodes_to_evaluate\u001b[0m\u001b[0;34m)\u001b[0m\u001b[0;34m\u001b[0m\u001b[0;34m\u001b[0m\u001b[0m\n\u001b[1;32m     21\u001b[0m     \u001b[0mx_\u001b[0m\u001b[0;34m,\u001b[0m \u001b[0my_\u001b[0m\u001b[0;34m,\u001b[0m \u001b[0msample_weight_\u001b[0m \u001b[0;34m=\u001b[0m \u001b[0mmodel\u001b[0m\u001b[0;34m.\u001b[0m\u001b[0m_standardize_user_data\u001b[0m\u001b[0;34m(\u001b[0m\u001b[0mx\u001b[0m\u001b[0;34m,\u001b[0m \u001b[0my\u001b[0m\u001b[0;34m)\u001b[0m\u001b[0;34m\u001b[0m\u001b[0;34m\u001b[0m\u001b[0m\n\u001b[0;32m---> 22\u001b[0;31m     \u001b[0;32mreturn\u001b[0m \u001b[0mf\u001b[0m\u001b[0;34m(\u001b[0m\u001b[0mx_\u001b[0m \u001b[0;34m+\u001b[0m \u001b[0my_\u001b[0m \u001b[0;34m+\u001b[0m \u001b[0msample_weight_\u001b[0m\u001b[0;34m)\u001b[0m\u001b[0;34m\u001b[0m\u001b[0;34m\u001b[0m\u001b[0m\n\u001b[0m\u001b[1;32m     23\u001b[0m \u001b[0;34m\u001b[0m\u001b[0m\n\u001b[1;32m     24\u001b[0m \u001b[0;34m\u001b[0m\u001b[0m\n",
      "\u001b[0;32m/usr/lib/python3.7/site-packages/keras/backend/tensorflow_backend.py\u001b[0m in \u001b[0;36m__call__\u001b[0;34m(self, inputs)\u001b[0m\n\u001b[1;32m   2713\u001b[0m                 \u001b[0;32mreturn\u001b[0m \u001b[0mself\u001b[0m\u001b[0;34m.\u001b[0m\u001b[0m_legacy_call\u001b[0m\u001b[0;34m(\u001b[0m\u001b[0minputs\u001b[0m\u001b[0;34m)\u001b[0m\u001b[0;34m\u001b[0m\u001b[0;34m\u001b[0m\u001b[0m\n\u001b[1;32m   2714\u001b[0m \u001b[0;34m\u001b[0m\u001b[0m\n\u001b[0;32m-> 2715\u001b[0;31m             \u001b[0;32mreturn\u001b[0m \u001b[0mself\u001b[0m\u001b[0;34m.\u001b[0m\u001b[0m_call\u001b[0m\u001b[0;34m(\u001b[0m\u001b[0minputs\u001b[0m\u001b[0;34m)\u001b[0m\u001b[0;34m\u001b[0m\u001b[0;34m\u001b[0m\u001b[0m\n\u001b[0m\u001b[1;32m   2716\u001b[0m         \u001b[0;32melse\u001b[0m\u001b[0;34m:\u001b[0m\u001b[0;34m\u001b[0m\u001b[0;34m\u001b[0m\u001b[0m\n\u001b[1;32m   2717\u001b[0m             \u001b[0;32mif\u001b[0m \u001b[0mpy_any\u001b[0m\u001b[0;34m(\u001b[0m\u001b[0mis_tensor\u001b[0m\u001b[0;34m(\u001b[0m\u001b[0mx\u001b[0m\u001b[0;34m)\u001b[0m \u001b[0;32mfor\u001b[0m \u001b[0mx\u001b[0m \u001b[0;32min\u001b[0m \u001b[0minputs\u001b[0m\u001b[0;34m)\u001b[0m\u001b[0;34m:\u001b[0m\u001b[0;34m\u001b[0m\u001b[0;34m\u001b[0m\u001b[0m\n",
      "\u001b[0;32m/usr/lib/python3.7/site-packages/keras/backend/tensorflow_backend.py\u001b[0m in \u001b[0;36m_call\u001b[0;34m(self, inputs)\u001b[0m\n\u001b[1;32m   2673\u001b[0m             \u001b[0mfetched\u001b[0m \u001b[0;34m=\u001b[0m \u001b[0mself\u001b[0m\u001b[0;34m.\u001b[0m\u001b[0m_callable_fn\u001b[0m\u001b[0;34m(\u001b[0m\u001b[0;34m*\u001b[0m\u001b[0marray_vals\u001b[0m\u001b[0;34m,\u001b[0m \u001b[0mrun_metadata\u001b[0m\u001b[0;34m=\u001b[0m\u001b[0mself\u001b[0m\u001b[0;34m.\u001b[0m\u001b[0mrun_metadata\u001b[0m\u001b[0;34m)\u001b[0m\u001b[0;34m\u001b[0m\u001b[0;34m\u001b[0m\u001b[0m\n\u001b[1;32m   2674\u001b[0m         \u001b[0;32melse\u001b[0m\u001b[0;34m:\u001b[0m\u001b[0;34m\u001b[0m\u001b[0;34m\u001b[0m\u001b[0m\n\u001b[0;32m-> 2675\u001b[0;31m             \u001b[0mfetched\u001b[0m \u001b[0;34m=\u001b[0m \u001b[0mself\u001b[0m\u001b[0;34m.\u001b[0m\u001b[0m_callable_fn\u001b[0m\u001b[0;34m(\u001b[0m\u001b[0;34m*\u001b[0m\u001b[0marray_vals\u001b[0m\u001b[0;34m)\u001b[0m\u001b[0;34m\u001b[0m\u001b[0;34m\u001b[0m\u001b[0m\n\u001b[0m\u001b[1;32m   2676\u001b[0m         \u001b[0;32mreturn\u001b[0m \u001b[0mfetched\u001b[0m\u001b[0;34m[\u001b[0m\u001b[0;34m:\u001b[0m\u001b[0mlen\u001b[0m\u001b[0;34m(\u001b[0m\u001b[0mself\u001b[0m\u001b[0;34m.\u001b[0m\u001b[0moutputs\u001b[0m\u001b[0;34m)\u001b[0m\u001b[0;34m]\u001b[0m\u001b[0;34m\u001b[0m\u001b[0;34m\u001b[0m\u001b[0m\n\u001b[1;32m   2677\u001b[0m \u001b[0;34m\u001b[0m\u001b[0m\n",
      "\u001b[0;32m/usr/lib/python3.7/site-packages/tensorflow/python/client/session.py\u001b[0m in \u001b[0;36m__call__\u001b[0;34m(self, *args, **kwargs)\u001b[0m\n\u001b[1;32m   1437\u001b[0m           ret = tf_session.TF_SessionRunCallable(\n\u001b[1;32m   1438\u001b[0m               \u001b[0mself\u001b[0m\u001b[0;34m.\u001b[0m\u001b[0m_session\u001b[0m\u001b[0;34m.\u001b[0m\u001b[0m_session\u001b[0m\u001b[0;34m,\u001b[0m \u001b[0mself\u001b[0m\u001b[0;34m.\u001b[0m\u001b[0m_handle\u001b[0m\u001b[0;34m,\u001b[0m \u001b[0margs\u001b[0m\u001b[0;34m,\u001b[0m \u001b[0mstatus\u001b[0m\u001b[0;34m,\u001b[0m\u001b[0;34m\u001b[0m\u001b[0;34m\u001b[0m\u001b[0m\n\u001b[0;32m-> 1439\u001b[0;31m               run_metadata_ptr)\n\u001b[0m\u001b[1;32m   1440\u001b[0m         \u001b[0;32mif\u001b[0m \u001b[0mrun_metadata\u001b[0m\u001b[0;34m:\u001b[0m\u001b[0;34m\u001b[0m\u001b[0;34m\u001b[0m\u001b[0m\n\u001b[1;32m   1441\u001b[0m           \u001b[0mproto_data\u001b[0m \u001b[0;34m=\u001b[0m \u001b[0mtf_session\u001b[0m\u001b[0;34m.\u001b[0m\u001b[0mTF_GetBuffer\u001b[0m\u001b[0;34m(\u001b[0m\u001b[0mrun_metadata_ptr\u001b[0m\u001b[0;34m)\u001b[0m\u001b[0;34m\u001b[0m\u001b[0;34m\u001b[0m\u001b[0m\n",
      "\u001b[0;32m/usr/lib/python3.7/site-packages/tensorflow/python/framework/errors_impl.py\u001b[0m in \u001b[0;36m__exit__\u001b[0;34m(self, type_arg, value_arg, traceback_arg)\u001b[0m\n\u001b[1;32m    526\u001b[0m             \u001b[0;32mNone\u001b[0m\u001b[0;34m,\u001b[0m \u001b[0;32mNone\u001b[0m\u001b[0;34m,\u001b[0m\u001b[0;34m\u001b[0m\u001b[0;34m\u001b[0m\u001b[0m\n\u001b[1;32m    527\u001b[0m             \u001b[0mcompat\u001b[0m\u001b[0;34m.\u001b[0m\u001b[0mas_text\u001b[0m\u001b[0;34m(\u001b[0m\u001b[0mc_api\u001b[0m\u001b[0;34m.\u001b[0m\u001b[0mTF_Message\u001b[0m\u001b[0;34m(\u001b[0m\u001b[0mself\u001b[0m\u001b[0;34m.\u001b[0m\u001b[0mstatus\u001b[0m\u001b[0;34m.\u001b[0m\u001b[0mstatus\u001b[0m\u001b[0;34m)\u001b[0m\u001b[0;34m)\u001b[0m\u001b[0;34m,\u001b[0m\u001b[0;34m\u001b[0m\u001b[0;34m\u001b[0m\u001b[0m\n\u001b[0;32m--> 528\u001b[0;31m             c_api.TF_GetCode(self.status.status))\n\u001b[0m\u001b[1;32m    529\u001b[0m     \u001b[0;31m# Delete the underlying status object from memory otherwise it stays alive\u001b[0m\u001b[0;34m\u001b[0m\u001b[0;34m\u001b[0m\u001b[0;34m\u001b[0m\u001b[0m\n\u001b[1;32m    530\u001b[0m     \u001b[0;31m# as there is a reference to status from this from the traceback due to\u001b[0m\u001b[0;34m\u001b[0m\u001b[0;34m\u001b[0m\u001b[0;34m\u001b[0m\u001b[0m\n",
      "\u001b[0;31mInternalError\u001b[0m: Could not allocate ndarray"
     ],
     "output_type": "error"
    }
   ],
   "source": [
    "\n",
    "history = model.fit(x=traces_train_reshaped,\n",
    "                    y=labels_train_categorical,\n",
    "                    batch_size=500,\n",
    "                    verbose=0,\n",
    "                    epochs=epoch_max,\n",
    "                    # class_weight=class_weight.compute_class_weight('balanced', np.unique(labels_train),\n",
    "                    #                                              labels_train),\n",
    "                    validation_data=(traces_test_reshaped, labels_test_categorical),\n",
    "                    callbacks=callbacks)\n",
    "model.save(\"AES_trained_model{}.h5\".format(i))\n",
    "\n",
    "# print(callbacks[4].mut)\n",
    "\n"
   ]
  },
  {
   "cell_type": "code",
   "execution_count": 29,
   "metadata": {},
   "outputs": [],
   "source": [
    "\n",
    "# Load Models for specific byte\n",
    "tmp = 1\n",
    "model.load_weights(\"AES_trained_model1_test.h5\")\n"
   ]
  },
  {
   "cell_type": "code",
   "execution_count": null,
   "metadata": {},
   "outputs": [
    {
     "name": "stdout",
     "output_type": "stream",
     "text": [
      "Calculating Information...\nStart calculating the information...\n"
     ]
    },
    {
     "name": "stdout",
     "output_type": "stream",
     "text": [
      "Calculated The information of epoch number - 0\n"
     ]
    },
    {
     "name": "stdout",
     "output_type": "stream",
     "text": [
      "Saving Mutual Information Values...\n"
     ]
    },
    {
     "data": {
      "text/plain": [
       "['MutInfoKey1.gz']"
      ]
     },
     "execution_count": 10,
     "metadata": {},
     "output_type": "execute_result"
    }
   ],
   "source": [
    "print(\"Calculating Information...\")\n",
    "mut = get_information(callbacks[3].ws, traces_test, labels_test_categorical,\n",
    "                                          128, 50, model, [0,0,0,0,0,0,0],calc_parallel=False)\n",
    "\n",
    "print(\"Saving Mutual Information Values...\")\n",
    "dump(mut, 'MutInfoKey{}.gz'.format(i), compress=3)\n"
   ]
  },
  {
   "cell_type": "code",
   "execution_count": 27,
   "metadata": {
    "collapsed": true
   },
   "outputs": [
    {
     "name": "stdout",
     "output_type": "stream",
     "text": [
      "[[{'local_IXT': 13.287712379549445, 'local_ITY': 2.529289449783519}\n  {'local_IXT': 13.287712379549445, 'local_ITY': 2.529289449783519}\n  {'local_IXT': 13.287712379549445, 'local_ITY': 2.529289449783519}\n  {'local_IXT': 13.287712379549445, 'local_ITY': 2.529289449783519}\n  {'local_IXT': 13.287712379549445, 'local_ITY': 2.529289449783519}\n  {'local_IXT': 13.287712379549445, 'local_ITY': 2.529289449783519}\n  {'local_IXT': 12.222918757079094, 'local_ITY': 1.9662671478948965}]\n [{'local_IXT': 13.287712379549445, 'local_ITY': 2.529289449783519}\n  {'local_IXT': 13.287712379549445, 'local_ITY': 2.529289449783519}\n  {'local_IXT': 13.287712379549445, 'local_ITY': 2.529289449783519}\n  {'local_IXT': 13.287712379549445, 'local_ITY': 2.529289449783519}\n  {'local_IXT': 13.287712379549445, 'local_ITY': 2.529289449783519}\n  {'local_IXT': 13.287712379549445, 'local_ITY': 2.529289449783519}\n  {'local_IXT': 12.407872983385625, 'local_ITY': 2.1864026101384972}]\n [{'local_IXT': 13.287712379549445, 'local_ITY': 2.529289449783519}\n  {'local_IXT': 13.287712379549445, 'local_ITY': 2.529289449783519}\n  {'local_IXT': 13.287712379549445, 'local_ITY': 2.529289449783519}\n  {'local_IXT': 13.287712379549445, 'local_ITY': 2.529289449783519}\n  {'local_IXT': 13.287712379549445, 'local_ITY': 2.529289449783519}\n  {'local_IXT': 13.287712379549445, 'local_ITY': 2.529289449783519}\n  {'local_IXT': 11.384924436753144, 'local_ITY': 2.118321389170868}]\n [{'local_IXT': 13.287712379549445, 'local_ITY': 2.529289449783519}\n  {'local_IXT': 13.287712379549445, 'local_ITY': 2.529289449783519}\n  {'local_IXT': 13.287712379549445, 'local_ITY': 2.529289449783519}\n  {'local_IXT': 13.287712379549445, 'local_ITY': 2.529289449783519}\n  {'local_IXT': 13.287712379549445, 'local_ITY': 2.529289449783519}\n  {'local_IXT': 13.287712379549445, 'local_ITY': 2.529289449783519}\n  {'local_IXT': 10.305500354185575, 'local_ITY': 2.1939258775132195}]\n [{'local_IXT': 13.287712379549445, 'local_ITY': 2.529289449783519}\n  {'local_IXT': 13.287712379549445, 'local_ITY': 2.529289449783519}\n  {'local_IXT': 13.287712379549445, 'local_ITY': 2.529289449783519}\n  {'local_IXT': 13.287712379549445, 'local_ITY': 2.529289449783519}\n  {'local_IXT': 13.287712379549445, 'local_ITY': 2.529289449783519}\n  {'local_IXT': 13.287712379549445, 'local_ITY': 2.529289449783519}\n  {'local_IXT': 9.704226757068522, 'local_ITY': 2.261675963054464}]\n [{'local_IXT': 13.287712379549445, 'local_ITY': 2.529289449783519}\n  {'local_IXT': 13.287712379549445, 'local_ITY': 2.529289449783519}\n  {'local_IXT': 13.287712379549445, 'local_ITY': 2.529289449783519}\n  {'local_IXT': 13.287712379549445, 'local_ITY': 2.529289449783519}\n  {'local_IXT': 13.287712379549445, 'local_ITY': 2.529289449783519}\n  {'local_IXT': 13.287712379549445, 'local_ITY': 2.529289449783519}\n  {'local_IXT': 9.076661899136173, 'local_ITY': 2.3018555523468436}]\n [{'local_IXT': 13.287712379549445, 'local_ITY': 2.529289449783519}\n  {'local_IXT': 13.287712379549445, 'local_ITY': 2.529289449783519}\n  {'local_IXT': 13.287712379549445, 'local_ITY': 2.529289449783519}\n  {'local_IXT': 13.287712379549445, 'local_ITY': 2.529289449783519}\n  {'local_IXT': 13.287712379549445, 'local_ITY': 2.529289449783519}\n  {'local_IXT': 13.287712379549445, 'local_ITY': 2.529289449783519}\n  {'local_IXT': 7.936814520990572, 'local_ITY': 2.345874737965647}]\n [{'local_IXT': 13.287712379549445, 'local_ITY': 2.529289449783519}\n  {'local_IXT': 13.287712379549445, 'local_ITY': 2.529289449783519}\n  {'local_IXT': 13.287712379549445, 'local_ITY': 2.529289449783519}\n  {'local_IXT': 13.287712379549445, 'local_ITY': 2.529289449783519}\n  {'local_IXT': 13.287712379549445, 'local_ITY': 2.529289449783519}\n  {'local_IXT': 13.287712379549445, 'local_ITY': 2.529289449783519}\n  {'local_IXT': 6.933619899667048, 'local_ITY': 2.3684724710939804}]\n [{'local_IXT': 13.287712379549445, 'local_ITY': 2.529289449783519}\n  {'local_IXT': 13.287712379549445, 'local_ITY': 2.529289449783519}\n  {'local_IXT': 13.287712379549445, 'local_ITY': 2.529289449783519}\n  {'local_IXT': 13.287712379549445, 'local_ITY': 2.529289449783519}\n  {'local_IXT': 13.287712379549445, 'local_ITY': 2.529289449783519}\n  {'local_IXT': 13.287712379549445, 'local_ITY': 2.529289449783519}\n  {'local_IXT': 5.755267173850697, 'local_ITY': 2.372594916364478}]\n [{'local_IXT': 13.287712379549445, 'local_ITY': 2.529289449783519}\n  {'local_IXT': 13.287712379549445, 'local_ITY': 2.529289449783519}\n  {'local_IXT': 13.287712379549445, 'local_ITY': 2.529289449783519}\n  {'local_IXT': 13.287712379549445, 'local_ITY': 2.529289449783519}\n  {'local_IXT': 13.287712379549445, 'local_ITY': 2.529289449783519}\n  {'local_IXT': 13.287712379549445, 'local_ITY': 2.529289449783519}\n  {'local_IXT': 5.088855636911253, 'local_ITY': 2.3766549101814998}]\n [{'local_IXT': 13.287712379549445, 'local_ITY': 2.529289449783519}\n  {'local_IXT': 13.287712379549445, 'local_ITY': 2.529289449783519}\n  {'local_IXT': 13.287712379549445, 'local_ITY': 2.529289449783519}\n  {'local_IXT': 13.287712379549445, 'local_ITY': 2.529289449783519}\n  {'local_IXT': 13.287712379549445, 'local_ITY': 2.529289449783519}\n  {'local_IXT': 13.287712379549445, 'local_ITY': 2.529289449783519}\n  {'local_IXT': 4.775014606156889, 'local_ITY': 2.376102834396267}]\n [{'local_IXT': 13.287712379549445, 'local_ITY': 2.529289449783519}\n  {'local_IXT': 13.287712379549445, 'local_ITY': 2.529289449783519}\n  {'local_IXT': 13.287712379549445, 'local_ITY': 2.529289449783519}\n  {'local_IXT': 13.287712379549445, 'local_ITY': 2.529289449783519}\n  {'local_IXT': 13.287712379549445, 'local_ITY': 2.529289449783519}\n  {'local_IXT': 13.287712379549445, 'local_ITY': 2.529289449783519}\n  {'local_IXT': 4.485435562528379, 'local_ITY': 2.3770021578029237}]\n [{'local_IXT': 13.287712379549445, 'local_ITY': 2.529289449783519}\n  {'local_IXT': 13.287712379549445, 'local_ITY': 2.529289449783519}\n  {'local_IXT': 13.287712379549445, 'local_ITY': 2.529289449783519}\n  {'local_IXT': 13.287712379549445, 'local_ITY': 2.529289449783519}\n  {'local_IXT': 13.287712379549445, 'local_ITY': 2.529289449783519}\n  {'local_IXT': 13.287712379549445, 'local_ITY': 2.529289449783519}\n  {'local_IXT': 4.225764271243283, 'local_ITY': 2.3719084590494055}]]\n"
     ]
    }
   ],
   "source": [
    "print(mut)"
   ]
  },
  {
   "cell_type": "code",
   "execution_count": null,
   "metadata": {},
   "outputs": [
    {
     "name": "stdout",
     "output_type": "stream",
     "text": [
      "Plotting Mutual Info...\n"
     ]
    }
   ],
   "source": [
    "\n",
    "print(\"Plotting Mutual Info...\")\n",
    "I_XT_array = np.array(extract_array(mut, 'local_IXT'))\n",
    "I_TY_array = np.array(extract_array(mut, 'local_ITY'))\n",
    "[font_size, axis_font, bar_font, colorbar_axis, sizes, yticks, xticks, title_strs, f, axes] = load_figures(\n",
    "    2, \"MutualInfo\")\n",
    "\n",
    "plot_all_epochs(I_XT_array, I_TY_array, axes, important_epoch, f, 0, 0, I_XT_array.shape[0]-2, font_size, yticks, xticks,\n",
    "                colorbar_axis, \"Mutual Info\", axis_font, bar_font, 'mut')\n"
   ]
  },
  {
   "cell_type": "code",
   "execution_count": 22,
   "metadata": {
    "collapsed": true
   },
   "outputs": [],
   "source": [
    "plt.show()"
   ]
  },
  {
   "cell_type": "code",
   "execution_count": 30,
   "metadata": {
    "collapsed": true
   },
   "outputs": [],
   "source": [
    "# Graph rank of correct key for one byte\n",
    "tmp = 1\n",
    "keyprediction = key_rank(model, inputoutput_test, traces_test_reshaped, tmp, key[0][2*tmp:2*tmp+2])\n",
    "\n",
    "keypred = pd.DataFrame(keyprediction)\n",
    "\n",
    "plt.plot(keypred.index.values, keypred[0], label='key{}'.format(tmp))\n",
    "plt.xlabel('# of traces')\n",
    "plt.ylabel('Rank')\n",
    "plt.xticks(np.arange(0, 50001, step=10000))\n",
    "plt.legend()\n",
    "plt.title(\"CNN\")\n",
    "plt.savefig('KeyByte{}: {}.jpg'.format(tmp, key[0][2*tmp:2*tmp+2]), dpi=500, format='jpg')\n",
    "plt.show()\n"
   ]
  },
  {
   "cell_type": "code",
   "execution_count": 12,
   "metadata": {},
   "outputs": [],
   "source": [
    "# Graph all key ranks on one graph\n",
    "for i in range(16):\n",
    "    model.load_weights('AES_trained_model{}.h5'.format(i))\n",
    "    keyprediction = key_rank(model, inputoutput_test, traces_test_reshaped, i, key[0][2*i:2*i+2])\n",
    "    keypred = pd.DataFrame(keyprediction)\n",
    "    plt.plot(keypred.index.values, keypred[0], label='key{}'.format(i))\n",
    "plt.xlabel('# of traces')\n",
    "plt.ylabel('Rank')\n",
    "plt.xticks(np.arange(0, 49999, step=5000))\n",
    "plt.legend()\n",
    "plt.title(\"CNN\")\n",
    "plt.show()\n"
   ]
  },
  {
   "cell_type": "code",
   "execution_count": null,
   "metadata": {},
   "outputs": [],
   "source": [
    "plt.plot(keypred.index.values[:1500], keypred[0][:1500], label='key{}'.format(tmp))\n",
    "plt.xlabel('# of traces')\n",
    "plt.ylabel('Rank')\n",
    "plt.xticks(np.arange(0, 1500, step=300))\n",
    "plt.legend()\n",
    "plt.title(\"CNN\")\n",
    "plt.show()\n"
   ]
  }
 ],
 "metadata": {
  "language": "python"
 },
 "nbformat": 4,
 "nbformat_minor": 2
}
